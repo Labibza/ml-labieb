{
 "cells": [
  {
   "cell_type": "code",
   "execution_count": 1,
   "metadata": {},
   "outputs": [],
   "source": [
    "import pandas as pd\n",
    "import numpy as np"
   ]
  },
  {
   "cell_type": "code",
   "execution_count": 2,
   "metadata": {},
   "outputs": [],
   "source": [
    "dataset = pd.read_csv('clean_dataset_stem.csv',sep=';')"
   ]
  },
  {
   "cell_type": "code",
   "execution_count": 3,
   "metadata": {},
   "outputs": [
    {
     "data": {
      "text/plain": [
       "(396, 10)"
      ]
     },
     "execution_count": 3,
     "metadata": {},
     "output_type": "execute_result"
    }
   ],
   "source": [
    "dataset.shape"
   ]
  },
  {
   "cell_type": "code",
   "execution_count": 4,
   "metadata": {},
   "outputs": [
    {
     "data": {
      "text/html": [
       "<div>\n",
       "<style scoped>\n",
       "    .dataframe tbody tr th:only-of-type {\n",
       "        vertical-align: middle;\n",
       "    }\n",
       "\n",
       "    .dataframe tbody tr th {\n",
       "        vertical-align: top;\n",
       "    }\n",
       "\n",
       "    .dataframe thead th {\n",
       "        text-align: right;\n",
       "    }\n",
       "</style>\n",
       "<table border=\"1\" class=\"dataframe\">\n",
       "  <thead>\n",
       "    <tr style=\"text-align: right;\">\n",
       "      <th></th>\n",
       "      <th>Unnamed: 0.1</th>\n",
       "      <th>Unnamed: 0</th>\n",
       "      <th>komentar</th>\n",
       "      <th>label</th>\n",
       "      <th>step01</th>\n",
       "      <th>tokens</th>\n",
       "      <th>final_tokens</th>\n",
       "      <th>step02</th>\n",
       "      <th>finalText_str</th>\n",
       "      <th>ProcessedText</th>\n",
       "    </tr>\n",
       "  </thead>\n",
       "  <tbody>\n",
       "    <tr>\n",
       "      <th>0</th>\n",
       "      <td>0</td>\n",
       "      <td>0</td>\n",
       "      <td>&lt;username&gt; Simulasi indonesia kembali dijajah ...</td>\n",
       "      <td>negatif</td>\n",
       "      <td>simulasi indonesia kembali dijajah keturunan ...</td>\n",
       "      <td>['simulasi', 'indonesia', 'kembali', 'dijajah'...</td>\n",
       "      <td>['simulasi', 'indonesia', 'kembali', 'dijajah'...</td>\n",
       "      <td>simulasi indonesia kembali dijajah keturunan b...</td>\n",
       "      <td>simulasi indonesia kembali dijajah keturunan b...</td>\n",
       "      <td>simulasi indonesia jajah turun belanda depan b...</td>\n",
       "    </tr>\n",
       "    <tr>\n",
       "      <th>1</th>\n",
       "      <td>1</td>\n",
       "      <td>1</td>\n",
       "      <td>&lt;username&gt; &lt;username&gt; &lt;username&gt; keturunan lai...</td>\n",
       "      <td>negatif</td>\n",
       "      <td>keturunan lain yang gak main bola emang bis...</td>\n",
       "      <td>['keturunan', 'lain', 'yang', 'gak', 'main', '...</td>\n",
       "      <td>['keturunan', 'lain', 'yang', 'gak', 'main', '...</td>\n",
       "      <td>keturunan lain yang gak main bola emang bisa d...</td>\n",
       "      <td>keturunan lain yang gak main bola emang bisa d...</td>\n",
       "      <td>turun yang gak main bola emang di naturalisasi...</td>\n",
       "    </tr>\n",
       "    <tr>\n",
       "      <th>2</th>\n",
       "      <td>2</td>\n",
       "      <td>2</td>\n",
       "      <td>&lt;username&gt; &lt;username&gt; uda botak keturunan penj...</td>\n",
       "      <td>negatif</td>\n",
       "      <td>uda botak keturunan penjajah sok si paling p...</td>\n",
       "      <td>['uda', 'botak', 'keturunan', 'penjajah', 'sok...</td>\n",
       "      <td>['uda', 'botak', 'keturunan', 'penjajah', 'sok...</td>\n",
       "      <td>uda botak keturunan penjajah sok si paling pah...</td>\n",
       "      <td>uda botak keturunan penjajah sok si paling pah...</td>\n",
       "      <td>uda botak turun jajah sok si paling paham bola...</td>\n",
       "    </tr>\n",
       "    <tr>\n",
       "      <th>3</th>\n",
       "      <td>3</td>\n",
       "      <td>3</td>\n",
       "      <td>&lt;username&gt; &lt;username&gt; &lt;username&gt; Belum tentu, ...</td>\n",
       "      <td>negatif</td>\n",
       "      <td>belum tentu gak semuanya jadi pemain bola d...</td>\n",
       "      <td>['belum', 'tentu', 'gak', 'semuanya', 'jadi', ...</td>\n",
       "      <td>['belum', 'tentu', 'gak', 'semuanya', 'jadi', ...</td>\n",
       "      <td>belum tentu gak semuanya jadi pemain bola dan ...</td>\n",
       "      <td>belum tentu gak semuanya jadi pemain bola dan ...</td>\n",
       "      <td>gak semua jadi main bola yg milih karir main b...</td>\n",
       "    </tr>\n",
       "    <tr>\n",
       "      <th>4</th>\n",
       "      <td>4</td>\n",
       "      <td>4</td>\n",
       "      <td>&lt;username&gt; &lt;username&gt; &lt;username&gt; Lu nya aja yg...</td>\n",
       "      <td>negatif</td>\n",
       "      <td>lu nya aja yg bego makanya nonton sendiri t...</td>\n",
       "      <td>['lu', 'nya', 'aja', 'yg', 'bego', 'makanya', ...</td>\n",
       "      <td>['lu', 'nya', 'aja', 'yg', 'bego', 'makanya', ...</td>\n",
       "      <td>lu nya aja yg bego makanya nonton sendiri tolo...</td>\n",
       "      <td>lu nya aja yg bego makanya nonton sendiri tolo...</td>\n",
       "      <td>lu aja bego makanya nonton sendiri tolol perse...</td>\n",
       "    </tr>\n",
       "    <tr>\n",
       "      <th>5</th>\n",
       "      <td>5</td>\n",
       "      <td>5</td>\n",
       "      <td>&lt;username&gt; Saya punya saran kepada &lt;username&gt; ...</td>\n",
       "      <td>negatif</td>\n",
       "      <td>saya punya saran kepada    kita terkenal deng...</td>\n",
       "      <td>['saya', 'punya', 'saran', 'kepada', 'kita', '...</td>\n",
       "      <td>['saya', 'punya', 'saran', 'kepada', 'kita', '...</td>\n",
       "      <td>saya punya saran kepada kita terkenal dengan p...</td>\n",
       "      <td>saya punya saran kepada kita terkenal dengan p...</td>\n",
       "      <td>punya saran kenal pola main cepat itu hilang i...</td>\n",
       "    </tr>\n",
       "    <tr>\n",
       "      <th>6</th>\n",
       "      <td>6</td>\n",
       "      <td>6</td>\n",
       "      <td>Ini STY ga coba asnawi jadi gelandang aja? VO2...</td>\n",
       "      <td>negatif</td>\n",
       "      <td>ini sty ga coba asnawi jadi gelandang aja vo m...</td>\n",
       "      <td>['ini', 'sty', 'ga', 'coba', 'asnawi', 'jadi',...</td>\n",
       "      <td>['ini', 'sty', 'ga', 'coba', 'asnawi', 'jadi',...</td>\n",
       "      <td>ini sty ga coba asnawi jadi gelandang aja vo m...</td>\n",
       "      <td>ini sty ga coba asnawi jadi gelandang aja vo m...</td>\n",
       "      <td>sty ga coba asnawi jadi gelandang aja vo max p...</td>\n",
       "    </tr>\n",
       "    <tr>\n",
       "      <th>7</th>\n",
       "      <td>7</td>\n",
       "      <td>7</td>\n",
       "      <td>&lt;username&gt; &lt;username&gt; &lt;username&gt; Bukan masalah...</td>\n",
       "      <td>negatif</td>\n",
       "      <td>bukan masalah bnyak kesempatan tiap taun ju...</td>\n",
       "      <td>['bukan', 'masalah', 'bnyak', 'kesempatan', 't...</td>\n",
       "      <td>['bukan', 'masalah', 'bnyak', 'kesempatan', 't...</td>\n",
       "      <td>bukan masalah bnyak kesempatan tiap taun juga ...</td>\n",
       "      <td>bukan masalah bnyak kesempatan tiap taun juga ...</td>\n",
       "      <td>bukan masalah bnyak sempat tiap taun bnyak tur...</td>\n",
       "    </tr>\n",
       "    <tr>\n",
       "      <th>8</th>\n",
       "      <td>8</td>\n",
       "      <td>8</td>\n",
       "      <td>&lt;username&gt; Biasa, sty klo tantrum kan gtu. Sem...</td>\n",
       "      <td>negatif</td>\n",
       "      <td>biasa sty klo tantrum kan gtu semua hal dibaw...</td>\n",
       "      <td>['biasa', 'sty', 'klo', 'tantrum', 'kan', 'gtu...</td>\n",
       "      <td>['biasa', 'sty', 'klo', 'tantrum', 'kan', 'gtu...</td>\n",
       "      <td>biasa sty klo tantrum kan gtu semua hal dibawa...</td>\n",
       "      <td>biasa sty klo tantrum kan gtu semua hal dibawa...</td>\n",
       "      <td>biasa sty klo tantrum kan gtu semua bawa mna g...</td>\n",
       "    </tr>\n",
       "    <tr>\n",
       "      <th>9</th>\n",
       "      <td>9</td>\n",
       "      <td>9</td>\n",
       "      <td>&lt;username&gt; Setelah pulang ke tanah air apakah ...</td>\n",
       "      <td>negatif</td>\n",
       "      <td>setelah pulang ke tanah air apakah akan dilem...</td>\n",
       "      <td>['setelah', 'pulang', 'ke', 'tanah', 'air', 'a...</td>\n",
       "      <td>['setelah', 'pulang', 'ke', 'tanah', 'air', 'a...</td>\n",
       "      <td>setelah pulang ke tanah air apakah akan dilemp...</td>\n",
       "      <td>setelah pulang ke tanah air apakah akan dilemp...</td>\n",
       "      <td>pulang tanah air akan lempari telur layak timn...</td>\n",
       "    </tr>\n",
       "  </tbody>\n",
       "</table>\n",
       "</div>"
      ],
      "text/plain": [
       "   Unnamed: 0.1  Unnamed: 0  \\\n",
       "0             0           0   \n",
       "1             1           1   \n",
       "2             2           2   \n",
       "3             3           3   \n",
       "4             4           4   \n",
       "5             5           5   \n",
       "6             6           6   \n",
       "7             7           7   \n",
       "8             8           8   \n",
       "9             9           9   \n",
       "\n",
       "                                            komentar    label  \\\n",
       "0  <username> Simulasi indonesia kembali dijajah ...  negatif   \n",
       "1  <username> <username> <username> keturunan lai...  negatif   \n",
       "2  <username> <username> uda botak keturunan penj...  negatif   \n",
       "3  <username> <username> <username> Belum tentu, ...  negatif   \n",
       "4  <username> <username> <username> Lu nya aja yg...  negatif   \n",
       "5  <username> Saya punya saran kepada <username> ...  negatif   \n",
       "6  Ini STY ga coba asnawi jadi gelandang aja? VO2...  negatif   \n",
       "7  <username> <username> <username> Bukan masalah...  negatif   \n",
       "8  <username> Biasa, sty klo tantrum kan gtu. Sem...  negatif   \n",
       "9  <username> Setelah pulang ke tanah air apakah ...  negatif   \n",
       "\n",
       "                                              step01  \\\n",
       "0   simulasi indonesia kembali dijajah keturunan ...   \n",
       "1     keturunan lain yang gak main bola emang bis...   \n",
       "2    uda botak keturunan penjajah sok si paling p...   \n",
       "3     belum tentu gak semuanya jadi pemain bola d...   \n",
       "4     lu nya aja yg bego makanya nonton sendiri t...   \n",
       "5   saya punya saran kepada    kita terkenal deng...   \n",
       "6  ini sty ga coba asnawi jadi gelandang aja vo m...   \n",
       "7     bukan masalah bnyak kesempatan tiap taun ju...   \n",
       "8   biasa sty klo tantrum kan gtu semua hal dibaw...   \n",
       "9   setelah pulang ke tanah air apakah akan dilem...   \n",
       "\n",
       "                                              tokens  \\\n",
       "0  ['simulasi', 'indonesia', 'kembali', 'dijajah'...   \n",
       "1  ['keturunan', 'lain', 'yang', 'gak', 'main', '...   \n",
       "2  ['uda', 'botak', 'keturunan', 'penjajah', 'sok...   \n",
       "3  ['belum', 'tentu', 'gak', 'semuanya', 'jadi', ...   \n",
       "4  ['lu', 'nya', 'aja', 'yg', 'bego', 'makanya', ...   \n",
       "5  ['saya', 'punya', 'saran', 'kepada', 'kita', '...   \n",
       "6  ['ini', 'sty', 'ga', 'coba', 'asnawi', 'jadi',...   \n",
       "7  ['bukan', 'masalah', 'bnyak', 'kesempatan', 't...   \n",
       "8  ['biasa', 'sty', 'klo', 'tantrum', 'kan', 'gtu...   \n",
       "9  ['setelah', 'pulang', 'ke', 'tanah', 'air', 'a...   \n",
       "\n",
       "                                        final_tokens  \\\n",
       "0  ['simulasi', 'indonesia', 'kembali', 'dijajah'...   \n",
       "1  ['keturunan', 'lain', 'yang', 'gak', 'main', '...   \n",
       "2  ['uda', 'botak', 'keturunan', 'penjajah', 'sok...   \n",
       "3  ['belum', 'tentu', 'gak', 'semuanya', 'jadi', ...   \n",
       "4  ['lu', 'nya', 'aja', 'yg', 'bego', 'makanya', ...   \n",
       "5  ['saya', 'punya', 'saran', 'kepada', 'kita', '...   \n",
       "6  ['ini', 'sty', 'ga', 'coba', 'asnawi', 'jadi',...   \n",
       "7  ['bukan', 'masalah', 'bnyak', 'kesempatan', 't...   \n",
       "8  ['biasa', 'sty', 'klo', 'tantrum', 'kan', 'gtu...   \n",
       "9  ['setelah', 'pulang', 'ke', 'tanah', 'air', 'a...   \n",
       "\n",
       "                                              step02  \\\n",
       "0  simulasi indonesia kembali dijajah keturunan b...   \n",
       "1  keturunan lain yang gak main bola emang bisa d...   \n",
       "2  uda botak keturunan penjajah sok si paling pah...   \n",
       "3  belum tentu gak semuanya jadi pemain bola dan ...   \n",
       "4  lu nya aja yg bego makanya nonton sendiri tolo...   \n",
       "5  saya punya saran kepada kita terkenal dengan p...   \n",
       "6  ini sty ga coba asnawi jadi gelandang aja vo m...   \n",
       "7  bukan masalah bnyak kesempatan tiap taun juga ...   \n",
       "8  biasa sty klo tantrum kan gtu semua hal dibawa...   \n",
       "9  setelah pulang ke tanah air apakah akan dilemp...   \n",
       "\n",
       "                                       finalText_str  \\\n",
       "0  simulasi indonesia kembali dijajah keturunan b...   \n",
       "1  keturunan lain yang gak main bola emang bisa d...   \n",
       "2  uda botak keturunan penjajah sok si paling pah...   \n",
       "3  belum tentu gak semuanya jadi pemain bola dan ...   \n",
       "4  lu nya aja yg bego makanya nonton sendiri tolo...   \n",
       "5  saya punya saran kepada kita terkenal dengan p...   \n",
       "6  ini sty ga coba asnawi jadi gelandang aja vo m...   \n",
       "7  bukan masalah bnyak kesempatan tiap taun juga ...   \n",
       "8  biasa sty klo tantrum kan gtu semua hal dibawa...   \n",
       "9  setelah pulang ke tanah air apakah akan dilemp...   \n",
       "\n",
       "                                       ProcessedText  \n",
       "0  simulasi indonesia jajah turun belanda depan b...  \n",
       "1  turun yang gak main bola emang di naturalisasi...  \n",
       "2  uda botak turun jajah sok si paling paham bola...  \n",
       "3  gak semua jadi main bola yg milih karir main b...  \n",
       "4  lu aja bego makanya nonton sendiri tolol perse...  \n",
       "5  punya saran kenal pola main cepat itu hilang i...  \n",
       "6  sty ga coba asnawi jadi gelandang aja vo max p...  \n",
       "7  bukan masalah bnyak sempat tiap taun bnyak tur...  \n",
       "8  biasa sty klo tantrum kan gtu semua bawa mna g...  \n",
       "9  pulang tanah air akan lempari telur layak timn...  "
      ]
     },
     "execution_count": 4,
     "metadata": {},
     "output_type": "execute_result"
    }
   ],
   "source": [
    "dataset.head(10)"
   ]
  },
  {
   "cell_type": "code",
   "execution_count": 5,
   "metadata": {},
   "outputs": [],
   "source": [
    "dataset_feature = dataset['ProcessedText'].astype(str)"
   ]
  },
  {
   "cell_type": "code",
   "execution_count": 7,
   "metadata": {},
   "outputs": [],
   "source": [
    "dataset_label = dataset['label']"
   ]
  },
  {
   "cell_type": "code",
   "execution_count": 8,
   "metadata": {},
   "outputs": [
    {
     "data": {
      "text/plain": [
       "0      simulasi indonesia jajah turun belanda depan b...\n",
       "1      turun yang gak main bola emang di naturalisasi...\n",
       "2      uda botak turun jajah sok si paling paham bola...\n",
       "3      gak semua jadi main bola yg milih karir main b...\n",
       "4      lu aja bego makanya nonton sendiri tolol perse...\n",
       "                             ...                        \n",
       "391    thun llu gk naturalisasi mgkin msih trauma sam...\n",
       "392    tahun lalu indonesia memang ga gencar buat nat...\n",
       "393    naturalisasi main turun jadi langkah efektif h...\n",
       "394    semua syarat perlu proses naturalisasi moga th...\n",
       "395    mau percaya sama akmal aja udah aneh dulu pas ...\n",
       "Name: ProcessedText, Length: 396, dtype: object"
      ]
     },
     "execution_count": 8,
     "metadata": {},
     "output_type": "execute_result"
    }
   ],
   "source": [
    "dataset_feature"
   ]
  },
  {
   "cell_type": "code",
   "execution_count": 9,
   "metadata": {},
   "outputs": [
    {
     "data": {
      "text/plain": [
       "0      negatif\n",
       "1      negatif\n",
       "2      negatif\n",
       "3      negatif\n",
       "4      negatif\n",
       "        ...   \n",
       "391    positif\n",
       "392    positif\n",
       "393    positif\n",
       "394    positif\n",
       "395    positif\n",
       "Name: label, Length: 396, dtype: object"
      ]
     },
     "execution_count": 9,
     "metadata": {},
     "output_type": "execute_result"
    }
   ],
   "source": [
    "dataset_label"
   ]
  },
  {
   "cell_type": "code",
   "execution_count": 10,
   "metadata": {},
   "outputs": [],
   "source": [
    "import matplotlib.pyplot as plt\n",
    "import seaborn as sns\n",
    "%matplotlib inline"
   ]
  },
  {
   "cell_type": "code",
   "execution_count": 11,
   "metadata": {},
   "outputs": [],
   "source": [
    "# Ubah label menjadi angka\n",
    "dataset[\"label_numerik\"] = dataset[\"label\"].map({\"positif\": 1, \"negatif\": 0})"
   ]
  },
  {
   "cell_type": "code",
   "execution_count": 12,
   "metadata": {},
   "outputs": [
    {
     "name": "stderr",
     "output_type": "stream",
     "text": [
      "C:\\Users\\ASUS TUFF\\AppData\\Local\\Temp\\ipykernel_21384\\105560606.py:2: UserWarning: \n",
      "\n",
      "`distplot` is a deprecated function and will be removed in seaborn v0.14.0.\n",
      "\n",
      "Please adapt your code to use either `displot` (a figure-level function with\n",
      "similar flexibility) or `histplot` (an axes-level function for histograms).\n",
      "\n",
      "For a guide to updating your code to use the new functions, please see\n",
      "https://gist.github.com/mwaskom/de44147ed2974457ad6372750bbe5751\n",
      "\n",
      "  sns.distplot(dataset[\"label_numerik\"], label=f'target, skew: {dataset[\"label_numerik\"].skew():.2f}')\n"
     ]
    },
    {
     "data": {
      "image/png": "[encoded data removed]",
      "text/plain": [
       "<Figure size 1200x800 with 1 Axes>"
      ]
     },
     "metadata": {},
     "output_type": "display_data"
    }
   ],
   "source": [
    "plt.figure(figsize=(12,8))\n",
    "sns.distplot(dataset[\"label_numerik\"], label=f'target, skew: {dataset[\"label_numerik\"].skew():.2f}')\n",
    "plt.legend(loc='best')\n",
    "plt.show()\n"
   ]
  },
  {
   "cell_type": "code",
   "execution_count": 14,
   "metadata": {},
   "outputs": [
    {
     "data": {
      "image/png": "[encoded data removed]",
      "text/plain": [
       "<Figure size 1200x800 with 1 Axes>"
      ]
     },
     "metadata": {},
     "output_type": "display_data"
    }
   ],
   "source": [
    "plt.figure(figsize=(12, 8))\n",
    "sns.histplot(dataset[\"label_numerik\"], kde=True)\n",
    "plt.xlabel(\"Label (0 = negatif, 1 = positif)\")\n",
    "plt.title(f'Target Distribution, Skew: {dataset[\"label_numerik\"].skew():.2f}')\n",
    "plt.show()"
   ]
  },
  {
   "cell_type": "code",
   "execution_count": 15,
   "metadata": {},
   "outputs": [
    {
     "data": {
      "text/plain": [
       "label\n",
       "positif    202\n",
       "negatif    194\n",
       "Name: count, dtype: int64"
      ]
     },
     "execution_count": 15,
     "metadata": {},
     "output_type": "execute_result"
    }
   ],
   "source": [
    "dataset_label.value_counts()"
   ]
  },
  {
   "cell_type": "code",
   "execution_count": 16,
   "metadata": {},
   "outputs": [],
   "source": [
    "from sklearn.feature_extraction.text import CountVectorizer"
   ]
  },
  {
   "cell_type": "code",
   "execution_count": 17,
   "metadata": {},
   "outputs": [],
   "source": [
    "vectorizer = CountVectorizer()"
   ]
  },
  {
   "cell_type": "code",
   "execution_count": 18,
   "metadata": {},
   "outputs": [],
   "source": [
    "X = vectorizer.fit_transform(dataset_feature)"
   ]
  },
  {
   "cell_type": "code",
   "execution_count": 19,
   "metadata": {},
   "outputs": [
    {
     "name": "stdout",
     "output_type": "stream",
     "text": [
      "['abad' 'abis' 'abord' ... 'zaman' 'zerbi' 'zidane']\n"
     ]
    }
   ],
   "source": [
    "print(vectorizer.get_feature_names_out())\n"
   ]
  },
  {
   "cell_type": "code",
   "execution_count": 20,
   "metadata": {},
   "outputs": [
    {
     "name": "stdout",
     "output_type": "stream",
     "text": [
      "[[0 0 0 ... 0 0 0]\n",
      " [0 0 0 ... 0 0 0]\n",
      " [0 0 0 ... 0 0 0]\n",
      " ...\n",
      " [0 0 0 ... 0 0 0]\n",
      " [0 0 0 ... 0 0 0]\n",
      " [0 0 0 ... 0 0 0]]\n"
     ]
    }
   ],
   "source": [
    "print(X.toarray())"
   ]
  },
  {
   "cell_type": "code",
   "execution_count": 21,
   "metadata": {},
   "outputs": [],
   "source": [
    "vectorizer2 = CountVectorizer(analyzer='word', ngram_range=(2, 2))"
   ]
  },
  {
   "cell_type": "code",
   "execution_count": 22,
   "metadata": {},
   "outputs": [],
   "source": [
    "X2 = vectorizer2.fit_transform(dataset_feature)"
   ]
  },
  {
   "cell_type": "code",
   "execution_count": 23,
   "metadata": {},
   "outputs": [
    {
     "name": "stdout",
     "output_type": "stream",
     "text": [
      "['abad ga' 'abis putra' 'abord aja' ... 'zaman lewat' 'zerbi butuh'\n",
      " 'zidane hasil']\n"
     ]
    }
   ],
   "source": [
    "print(vectorizer2.get_feature_names_out())"
   ]
  },
  {
   "cell_type": "code",
   "execution_count": 24,
   "metadata": {},
   "outputs": [
    {
     "name": "stdout",
     "output_type": "stream",
     "text": [
      "[[0 0 0 ... 0 0 0]\n",
      " [0 0 0 ... 0 0 0]\n",
      " [0 0 0 ... 0 0 0]\n",
      " ...\n",
      " [0 0 0 ... 0 0 0]\n",
      " [0 0 0 ... 0 0 0]\n",
      " [0 0 0 ... 0 0 0]]\n"
     ]
    }
   ],
   "source": [
    "print(X2.toarray())"
   ]
  },
  {
   "cell_type": "code",
   "execution_count": 25,
   "metadata": {},
   "outputs": [],
   "source": [
    "corpus = [\n",
    "    'This is the first Document.',\n",
    "    'This document is the second document.',\n",
    "    'And this is the third one.',\n",
    "    'Is this the first document?',\n",
    "]"
   ]
  },
  {
   "cell_type": "code",
   "execution_count": 26,
   "metadata": {},
   "outputs": [],
   "source": [
    "vectorizer = CountVectorizer()"
   ]
  },
  {
   "cell_type": "code",
   "execution_count": 27,
   "metadata": {},
   "outputs": [],
   "source": [
    "Z = vectorizer.fit_transform(corpus)"
   ]
  },
  {
   "cell_type": "code",
   "execution_count": 28,
   "metadata": {},
   "outputs": [
    {
     "data": {
      "text/plain": [
       "array(['and', 'document', 'first', 'is', 'one', 'second', 'the', 'third',\n",
       "       'this'], dtype=object)"
      ]
     },
     "execution_count": 28,
     "metadata": {},
     "output_type": "execute_result"
    }
   ],
   "source": [
    "vectorizer.get_feature_names_out()"
   ]
  },
  {
   "cell_type": "code",
   "execution_count": 29,
   "metadata": {},
   "outputs": [
    {
     "name": "stdout",
     "output_type": "stream",
     "text": [
      "[[0 1 1 1 0 0 1 0 1]\n",
      " [0 2 0 1 0 1 1 0 1]\n",
      " [1 0 0 1 1 0 1 1 1]\n",
      " [0 1 1 1 0 0 1 0 1]]\n"
     ]
    }
   ],
   "source": [
    "print(Z.toarray())"
   ]
  },
  {
   "cell_type": "code",
   "execution_count": 30,
   "metadata": {},
   "outputs": [],
   "source": [
    "vectorizer2 = CountVectorizer(analyzer='word', ngram_range=(2, 2))"
   ]
  },
  {
   "cell_type": "code",
   "execution_count": 31,
   "metadata": {},
   "outputs": [],
   "source": [
    "Z2 = vectorizer2.fit_transform(corpus)"
   ]
  },
  {
   "cell_type": "code",
   "execution_count": 32,
   "metadata": {},
   "outputs": [
    {
     "data": {
      "text/plain": [
       "array(['and this', 'document is', 'first document', 'is the', 'is this',\n",
       "       'second document', 'the first', 'the second', 'the third',\n",
       "       'third one', 'this document', 'this is', 'this the'], dtype=object)"
      ]
     },
     "execution_count": 32,
     "metadata": {},
     "output_type": "execute_result"
    }
   ],
   "source": [
    "vectorizer2.get_feature_names_out()"
   ]
  },
  {
   "cell_type": "code",
   "execution_count": 33,
   "metadata": {},
   "outputs": [
    {
     "name": "stdout",
     "output_type": "stream",
     "text": [
      "[[0 0 1 1 0 0 1 0 0 0 0 1 0]\n",
      " [0 1 0 1 0 1 0 1 0 0 1 0 0]\n",
      " [1 0 0 1 0 0 0 0 1 1 0 1 0]\n",
      " [0 0 1 0 1 0 1 0 0 0 0 0 1]]\n"
     ]
    }
   ],
   "source": [
    "print(Z2.toarray())"
   ]
  }
 ],
 "metadata": {
  "kernelspec": {
   "display_name": "Python 3",
   "language": "python",
   "name": "python3"
  },
  "language_info": {
   "codemirror_mode": {
    "name": "ipython",
    "version": 3
   },
   "file_extension": ".py",
   "mimetype": "text/x-python",
   "name": "python",
   "nbconvert_exporter": "python",
   "pygments_lexer": "ipython3",
   "version": "3.11.9"
  }
 },
 "nbformat": 4,
 "nbformat_minor": 2
}
